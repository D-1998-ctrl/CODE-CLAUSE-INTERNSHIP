{
 "cells": [
  {
   "cell_type": "code",
   "execution_count": null,
   "id": "2b741345",
   "metadata": {},
   "outputs": [],
   "source": [
    "import cv2\n",
    "import pandas as pd\n",
    "\n",
    "img_path = r\"C:\\Users\\Anuja\\Desktop\\CODE CLAUSE INTERNSHIP\\COLOUR DETECTION\\colorpic.jpg\"\n",
    "img = cv2.imread(img_path)\n",
    "clicked = False\n",
    "r = g = b = x_pos = y_pos = 0\n",
    "\n",
    "# Reading CSV file with pandas\n",
    "index = [\"color\", \"color_name\", \"hex\", \"R\", \"G\", \"B\"] \n",
    "csv_path = r\"C:\\Users\\Anuja\\Desktop\\CODE CLAUSE INTERNSHIP\\COLOUR DETECTION\\colors.csv\"\n",
    "CSV = pd.read_csv(csv_path, names=index, header=None)\n",
    "# Function to get x and y coordinates of mouse double-click\n",
    "def draw_function(event, x, y, flags, param):\n",
    "    global b, g, r, x_pos, y_pos, clicked\n",
    "    if event == cv2.EVENT_LBUTTONDBLCLK:\n",
    "        clicked = True\n",
    "        x_pos = x\n",
    "        y_pos = y\n",
    "        b, g, r = img[y, x]\n",
    "        b = int(b)\n",
    "        g = int(g)\n",
    "        r = int(r)\n",
    "\n",
    "cv2.namedWindow('image')\n",
    "cv2.setMouseCallback('image', draw_function)\n",
    "\n",
    "# Function to calculate minimum distance from all colors and get the most matching color\n",
    "def get_color_name(R, G, B):\n",
    "    minimum = 10000\n",
    "    cname = \"\"\n",
    "    for i in range(len(CSV)):\n",
    "        d = abs(R - int(CSV.loc[i, \"R\"])) + abs(G - int(CSV.loc[i, \"G\"])) + abs(B - int(CSV.loc[i, \"B\"]))\n",
    "        if d <= minimum:\n",
    "            minimum = d\n",
    "            cname = CSV.loc[i, \"color_name\"]\n",
    "    return cname\n",
    "\n",
    "while True:\n",
    "    cv2.imshow(\"image\", img)\n",
    "    if clicked:\n",
    "        cv2.rectangle(img, (20, 20), (750, 60), (b, g, r), -1)\n",
    "        text = get_color_name(r, g, b) + ' R=' + str(r) + ' G=' + str(g) + ' B=' + str(b)\n",
    "        cv2.putText(img, text, (50, 50), 2, 0.8, (255, 255, 255), 2, cv2.LINE_AA)\n",
    "        if r + g + b >= 600:\n",
    "            cv2.putText(img, text, (50, 50), 2, 0.8, (0, 0, 0), 2, cv2.LINE_AA)\n",
    "        clicked = False\n",
    "    if cv2.waitKey(20) & 0xFF == 27:\n",
    "        break\n",
    "\n",
    "cv2.destroyAllWindows()\n"
   ]
  },
  {
   "cell_type": "code",
   "execution_count": null,
   "id": "63b7b38e",
   "metadata": {},
   "outputs": [],
   "source": []
  }
 ],
 "metadata": {
  "kernelspec": {
   "display_name": "Python 3 (ipykernel)",
   "language": "python",
   "name": "python3"
  },
  "language_info": {
   "codemirror_mode": {
    "name": "ipython",
    "version": 3
   },
   "file_extension": ".py",
   "mimetype": "text/x-python",
   "name": "python",
   "nbconvert_exporter": "python",
   "pygments_lexer": "ipython3",
   "version": "3.9.7"
  }
 },
 "nbformat": 4,
 "nbformat_minor": 5
}
